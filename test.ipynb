{
 "cells": [
  {
   "cell_type": "code",
   "execution_count": 1,
   "id": "009aa08e",
   "metadata": {},
   "outputs": [],
   "source": [
    "import pandas as pd"
   ]
  },
  {
   "cell_type": "code",
   "execution_count": 4,
   "id": "032e905c",
   "metadata": {},
   "outputs": [
    {
     "data": {
      "text/html": [
       "<div>\n",
       "<style scoped>\n",
       "    .dataframe tbody tr th:only-of-type {\n",
       "        vertical-align: middle;\n",
       "    }\n",
       "\n",
       "    .dataframe tbody tr th {\n",
       "        vertical-align: top;\n",
       "    }\n",
       "\n",
       "    .dataframe thead th {\n",
       "        text-align: right;\n",
       "    }\n",
       "</style>\n",
       "<table border=\"1\" class=\"dataframe\">\n",
       "  <thead>\n",
       "    <tr style=\"text-align: right;\">\n",
       "      <th></th>\n",
       "      <th>sample</th>\n",
       "      <th>annotation</th>\n",
       "    </tr>\n",
       "  </thead>\n",
       "  <tbody>\n",
       "    <tr>\n",
       "      <th>0</th>\n",
       "      <td>aa</td>\n",
       "      <td>[(0, 2, 'O')]</td>\n",
       "    </tr>\n",
       "    <tr>\n",
       "      <th>1</th>\n",
       "      <td>aala</td>\n",
       "      <td>[(0, 4, 'O')]</td>\n",
       "    </tr>\n",
       "    <tr>\n",
       "      <th>2</th>\n",
       "      <td>aarcca</td>\n",
       "      <td>[(0, 6, 'O')]</td>\n",
       "    </tr>\n",
       "    <tr>\n",
       "      <th>3</th>\n",
       "      <td>abon</td>\n",
       "      <td>[(0, 4, 'O')]</td>\n",
       "    </tr>\n",
       "    <tr>\n",
       "      <th>4</th>\n",
       "      <td>abso</td>\n",
       "      <td>[(0, 4, 'B-BRAND')]</td>\n",
       "    </tr>\n",
       "    <tr>\n",
       "      <th>...</th>\n",
       "      <td>...</td>\n",
       "      <td>...</td>\n",
       "    </tr>\n",
       "    <tr>\n",
       "      <th>27246</th>\n",
       "      <td>№1 кофейни</td>\n",
       "      <td>[(0, 2, 'B-BRAND'), (3, 10, 'B-TYPE')]</td>\n",
       "    </tr>\n",
       "    <tr>\n",
       "      <th>27247</th>\n",
       "      <td>№1 кофейник</td>\n",
       "      <td>[(0, 2, 'B-BRAND'), (3, 11, 'B-TYPE')]</td>\n",
       "    </tr>\n",
       "    <tr>\n",
       "      <th>27248</th>\n",
       "      <td>№1 пиво</td>\n",
       "      <td>[(0, 2, 'B-BRAND'), (3, 7, 'B-TYPE')]</td>\n",
       "    </tr>\n",
       "    <tr>\n",
       "      <th>27249</th>\n",
       "      <td>№1 са</td>\n",
       "      <td>[(0, 2, 'B-BRAND'), (3, 5, 'B-TYPE')]</td>\n",
       "    </tr>\n",
       "    <tr>\n",
       "      <th>27250</th>\n",
       "      <td>№1 саш</td>\n",
       "      <td>[(0, 2, 'B-BRAND'), (3, 6, 'B-TYPE')]</td>\n",
       "    </tr>\n",
       "  </tbody>\n",
       "</table>\n",
       "<p>27251 rows × 2 columns</p>\n",
       "</div>"
      ],
      "text/plain": [
       "            sample                              annotation\n",
       "0               aa                           [(0, 2, 'O')]\n",
       "1             aala                           [(0, 4, 'O')]\n",
       "2           aarcca                           [(0, 6, 'O')]\n",
       "3             abon                           [(0, 4, 'O')]\n",
       "4             abso                     [(0, 4, 'B-BRAND')]\n",
       "...            ...                                     ...\n",
       "27246   №1 кофейни  [(0, 2, 'B-BRAND'), (3, 10, 'B-TYPE')]\n",
       "27247  №1 кофейник  [(0, 2, 'B-BRAND'), (3, 11, 'B-TYPE')]\n",
       "27248      №1 пиво   [(0, 2, 'B-BRAND'), (3, 7, 'B-TYPE')]\n",
       "27249        №1 са   [(0, 2, 'B-BRAND'), (3, 5, 'B-TYPE')]\n",
       "27250       №1 саш   [(0, 2, 'B-BRAND'), (3, 6, 'B-TYPE')]\n",
       "\n",
       "[27251 rows x 2 columns]"
      ]
     },
     "execution_count": 4,
     "metadata": {},
     "output_type": "execute_result"
    }
   ],
   "source": [
    "df = pd.read_csv('data/train.csv', delimiter=\";\")\n",
    "df "
   ]
  },
  {
   "cell_type": "code",
   "execution_count": null,
   "id": "a8de96bc",
   "metadata": {},
   "outputs": [],
   "source": []
  }
 ],
 "metadata": {
  "kernelspec": {
   "display_name": ".venv",
   "language": "python",
   "name": "python3"
  },
  "language_info": {
   "codemirror_mode": {
    "name": "ipython",
    "version": 3
   },
   "file_extension": ".py",
   "mimetype": "text/x-python",
   "name": "python",
   "nbconvert_exporter": "python",
   "pygments_lexer": "ipython3",
   "version": "3.12.9"
  }
 },
 "nbformat": 4,
 "nbformat_minor": 5
}
